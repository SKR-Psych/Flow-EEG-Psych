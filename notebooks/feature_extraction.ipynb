{
 "cells": [
  {
   "cell_type": "code",
   "execution_count": null,
   "metadata": {},
   "outputs": [
    {
     "name": "stdout",
     "output_type": "stream",
     "text": [
      "Processing file: S01_B_RWEO_PreOL_stft.csv\n",
      "Processing file: S01_C_OLoop_stft.csv\n",
      "Processing file: S01_D_RWEO_PstOL_stft.csv\n",
      "Processing file: S01_E_RWEO_PreCL_stft.csv\n",
      "Processing file: S01_F_CL_Sil_50_100_stft.csv\n"
     ]
    }
   ],
   "source": [
    "# Feature Extraction Notebook Code\n",
    "\n",
    "import os\n",
    "import sys\n",
    "\n",
    "# Add the path to the src directory\n",
    "sys.path.append(os.path.join(os.path.dirname(os.path.abspath(\"__file__\")), '..', 'src'))\n",
    "\n",
    "# Import and run the main feature extraction function\n",
    "from features.extract_features import main as extract_features_main\n",
    "\n",
    "# Run the feature extraction\n",
    "extract_features_main()\n",
    "\n"
   ]
  }
 ],
 "metadata": {
  "kernelspec": {
   "display_name": "base",
   "language": "python",
   "name": "python3"
  },
  "language_info": {
   "codemirror_mode": {
    "name": "ipython",
    "version": 3
   },
   "file_extension": ".py",
   "mimetype": "text/x-python",
   "name": "python",
   "nbconvert_exporter": "python",
   "pygments_lexer": "ipython3",
   "version": "3.12.4"
  }
 },
 "nbformat": 4,
 "nbformat_minor": 2
}
