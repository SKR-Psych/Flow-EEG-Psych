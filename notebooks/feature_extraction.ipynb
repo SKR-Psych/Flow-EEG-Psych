{
 "cells": [
  {
   "cell_type": "code",
   "execution_count": 3,
   "metadata": {},
   "outputs": [
    {
     "name": "stdout",
     "output_type": "stream",
     "text": [
      "Error importing the feature extraction function: cannot import name 'main' from 'features.extract_features' (C:\\Users\\Sami\\Desktop\\Uni\\Flow-EEG-Psych\\src\\features\\extract_features.py)\n"
     ]
    }
   ],
   "source": [
    "import sys\n",
    "import os\n",
    "\n",
    "# Ensure the module path is correct\n",
    "src_path = r'C:\\Users\\Sami\\Desktop\\Uni\\Flow-EEG-Psych\\src'\n",
    "if src_path not in sys.path:\n",
    "    sys.path.append(src_path)\n",
    "\n",
    "from features.extract_features import main as extract_features_main\n",
    "\n",
    "# Run the feature extraction\n",
    "extract_features_main()\n",
    "\n"
   ]
  }
 ],
 "metadata": {
  "kernelspec": {
   "display_name": "base",
   "language": "python",
   "name": "python3"
  },
  "language_info": {
   "codemirror_mode": {
    "name": "ipython",
    "version": 3
   },
   "file_extension": ".py",
   "mimetype": "text/x-python",
   "name": "python",
   "nbconvert_exporter": "python",
   "pygments_lexer": "ipython3",
   "version": "3.12.4"
  }
 },
 "nbformat": 4,
 "nbformat_minor": 2
}
