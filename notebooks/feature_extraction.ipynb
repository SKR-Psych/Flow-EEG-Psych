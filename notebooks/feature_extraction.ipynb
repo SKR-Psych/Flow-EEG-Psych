{
 "cells": [
  {
   "cell_type": "code",
   "execution_count": null,
   "metadata": {},
   "outputs": [],
   "source": [
    "# Feature Extraction from STFT Data\n",
    "\n",
    "import os\n",
    "import numpy as np\n",
    "import pandas as pd\n",
    "import matplotlib.pyplot as plt\n",
    "from scipy.stats import entropy"
   ]
  },
  {
   "cell_type": "code",
   "execution_count": null,
   "metadata": {},
   "outputs": [],
   "source": [
    "# Paths to STFT data and features output\n",
    "data_path = 'data/stft/'\n",
    "features_output_path = 'data/features/'\n",
    "\n",
    "# Ensure the features directory exists\n",
    "if not os.path.exists(features_output_path):\n",
    "    os.makedirs(features_output_path)"
   ]
  },
  {
   "cell_type": "code",
   "execution_count": null,
   "metadata": {},
   "outputs": [],
   "source": [
    "# Frequency band definitions (in Hz)\n",
    "frequency_bands = {\n",
    "    'delta': (1, 4),\n",
    "    'theta': (4, 8),\n",
    "    'alpha': (8, 13),\n",
    "    'beta': (13, 30),\n",
    "    'gamma': (30, 50)\n",
    "}\n",
    "\n",
    "# Sampling rate assumption for STFT analysis (modify if different)\n",
    "sampling_rate = 256"
   ]
  },
  {
   "cell_type": "code",
   "execution_count": null,
   "metadata": {},
   "outputs": [],
   "source": [
    "# Function to calculate band power\n",
    "def calculate_band_power(stft_matrix, freqs, band):\n",
    "    \"\"\"\n",
    "    Calculate the average power in the given frequency band.\n",
    "    \"\"\"\n",
    "    band_freqs = np.where((freqs >= band[0]) & (freqs <= band[1]))[0]\n",
    "    band_power = np.mean(np.abs(stft_matrix[band_freqs, :]) ** 2, axis=0)\n",
    "    return np.mean(band_power)\n",
    "\n",
    "# Function to calculate spectral entropy\n",
    "def calculate_spectral_entropy(stft_matrix):\n",
    "    \"\"\"\n",
    "    Calculate the spectral entropy of the given STFT data.\n",
    "    \"\"\"\n",
    "    power_spectrum = np.abs(stft_matrix) ** 2\n",
    "    power_spectrum /= np.sum(power_spectrum, axis=0)  # Normalize\n",
    "    return entropy(power_spectrum, base=2, axis=0).mean()\n"
   ]
  },
  {
   "cell_type": "code",
   "execution_count": null,
   "metadata": {},
   "outputs": [],
   "source": [
    "# Function to extract features from an STFT CSV file\n",
    "def extract_features_from_file(file_path):\n",
    "    df = pd.read_csv(file_path)\n",
    "    # Extract signal values as NumPy array\n",
    "    stft_data = df.to_numpy()\n",
    "    \n",
    "    # Assuming the first column contains frequency information\n",
    "    frequencies = stft_data[:, 0]\n",
    "    # The rest are STFT values\n",
    "    stft_matrix = stft_data[:, 1:]\n",
    "\n",
    "    # Calculate features for each frequency band\n",
    "    features = {}\n",
    "    for band_name, band_range in frequency_bands.items():\n",
    "        features[f'{band_name}_power'] = calculate_band_power(stft_matrix, frequencies, band_range)\n",
    "    \n",
    "    # Calculate spectral entropy\n",
    "    features['spectral_entropy'] = calculate_spectral_entropy(stft_matrix)\n",
    "\n",
    "    return feature"
   ]
  },
  {
   "cell_type": "code",
   "execution_count": null,
   "metadata": {},
   "outputs": [],
   "source": [
    "# Main function to extract features from all STFT files\n",
    "def main():\n",
    "    feature_list = []\n",
    "    for file in os.listdir(data_path):\n",
    "        if file.endswith('_stft.csv'):\n",
    "            file_path = os.path.join(data_path, file)\n",
    "            print(f\"Processing file: {file}\")\n",
    "            features = extract_features_from_file(file_path)\n",
    "            # Extract subject and condition from filename\n",
    "            filename_parts = file.split('_')\n",
    "            subject = filename_parts[0]\n",
    "            condition = '_'.join(filename_parts[1:-1])\n",
    "            # Add subject and condition to features\n",
    "            features['subject'] = subject\n",
    "            features['condition'] = condition\n",
    "            feature_list.append(features)\n",
    "\n",
    "    # Create a DataFrame from the features and save to CSV\n",
    "    features_df = pd.DataFrame(feature_list)\n",
    "    features_output_file = os.path.join(features_output_path, 'features.csv')\n",
    "    features_df.to_csv(features_output_file, index=False)\n",
    "    print(f\"Feature extraction complete. Features saved to: {features_output_file}\")\n",
    "\n",
    "if __name__ == \"__main__\":\n",
    "    main()"
   ]
  }
 ],
 "metadata": {
  "language_info": {
   "name": "python"
  }
 },
 "nbformat": 4,
 "nbformat_minor": 2
}
