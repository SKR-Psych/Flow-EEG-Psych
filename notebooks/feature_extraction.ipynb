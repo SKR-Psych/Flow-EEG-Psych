{
 "cells": [
  {
   "cell_type": "code",
   "execution_count": 4,
   "metadata": {},
   "outputs": [
    {
     "ename": "ImportError",
     "evalue": "cannot import name 'main' from 'features.extract_features' (C:\\Users\\Sami\\Desktop\\Uni\\Flow-EEG-Psych\\src\\features\\extract_features.py)",
     "output_type": "error",
     "traceback": [
      "\u001b[1;31m---------------------------------------------------------------------------\u001b[0m",
      "\u001b[1;31mImportError\u001b[0m                               Traceback (most recent call last)",
      "Cell \u001b[1;32mIn[4], line 9\u001b[0m\n\u001b[0;32m      6\u001b[0m \u001b[38;5;28;01mif\u001b[39;00m src_path \u001b[38;5;129;01mnot\u001b[39;00m \u001b[38;5;129;01min\u001b[39;00m sys\u001b[38;5;241m.\u001b[39mpath:\n\u001b[0;32m      7\u001b[0m     sys\u001b[38;5;241m.\u001b[39mpath\u001b[38;5;241m.\u001b[39mappend(src_path)\n\u001b[1;32m----> 9\u001b[0m \u001b[38;5;28;01mfrom\u001b[39;00m \u001b[38;5;21;01mfeatures\u001b[39;00m\u001b[38;5;21;01m.\u001b[39;00m\u001b[38;5;21;01mextract_features\u001b[39;00m \u001b[38;5;28;01mimport\u001b[39;00m main \u001b[38;5;28;01mas\u001b[39;00m extract_features_main\n\u001b[0;32m     11\u001b[0m \u001b[38;5;66;03m# Run the feature extraction\u001b[39;00m\n\u001b[0;32m     12\u001b[0m extract_features_main()\n",
      "\u001b[1;31mImportError\u001b[0m: cannot import name 'main' from 'features.extract_features' (C:\\Users\\Sami\\Desktop\\Uni\\Flow-EEG-Psych\\src\\features\\extract_features.py)"
     ]
    }
   ],
   "source": [
    "# Feature Extraction Notebook Code\n",
    "\n",
    "import os\n",
    "import sys\n",
    "\n",
    "# Add the path to the src directory\n",
    "src_path = r'C:\\Users\\Sami\\Desktop\\Uni\\Flow-EEG-Psych\\src'\n",
    "if src_path not in sys.path:\n",
    "    sys.path.append(src_path)\n",
    "\n",
    "# Import and run the main feature extraction function\n",
    "from features.extract_features import main as extract_features_main\n",
    "\n",
    "# Run the feature extraction\n",
    "extract_features_main()\n",
    "\n"
   ]
  }
 ],
 "metadata": {
  "kernelspec": {
   "display_name": "base",
   "language": "python",
   "name": "python3"
  },
  "language_info": {
   "codemirror_mode": {
    "name": "ipython",
    "version": 3
   },
   "file_extension": ".py",
   "mimetype": "text/x-python",
   "name": "python",
   "nbconvert_exporter": "python",
   "pygments_lexer": "ipython3",
   "version": "3.12.4"
  }
 },
 "nbformat": 4,
 "nbformat_minor": 2
}
