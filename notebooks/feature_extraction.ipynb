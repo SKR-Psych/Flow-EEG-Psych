{
 "cells": [
  {
   "cell_type": "code",
   "execution_count": 7,
   "metadata": {},
   "outputs": [
    {
     "name": "stderr",
     "output_type": "stream",
     "text": [
      "c:\\Users\\Sami\\anaconda3\\Lib\\site-packages\\scipy\\signal\\_spectral_py.py:600: UserWarning: nperseg = 1024 is greater than input length  = 144, using nperseg = 144\n",
      "  freqs, _, Pxy = _spectral_helper(x, y, fs, window, nperseg, noverlap,\n"
     ]
    },
    {
     "name": "stdout",
     "output_type": "stream",
     "text": [
      "Extracted features from S01_B_RWEO_PreOL_signals.csv\n"
     ]
    },
    {
     "name": "stderr",
     "output_type": "stream",
     "text": [
      "c:\\Users\\Sami\\anaconda3\\Lib\\site-packages\\scipy\\signal\\_spectral_py.py:600: UserWarning: nperseg = 1024 is greater than input length  = 144, using nperseg = 144\n",
      "  freqs, _, Pxy = _spectral_helper(x, y, fs, window, nperseg, noverlap,\n"
     ]
    },
    {
     "name": "stdout",
     "output_type": "stream",
     "text": [
      "Extracted features from S01_C_OLoop_signals.csv\n"
     ]
    },
    {
     "name": "stderr",
     "output_type": "stream",
     "text": [
      "c:\\Users\\Sami\\anaconda3\\Lib\\site-packages\\scipy\\signal\\_spectral_py.py:600: UserWarning: nperseg = 1024 is greater than input length  = 144, using nperseg = 144\n",
      "  freqs, _, Pxy = _spectral_helper(x, y, fs, window, nperseg, noverlap,\n"
     ]
    },
    {
     "name": "stdout",
     "output_type": "stream",
     "text": [
      "Extracted features from S01_D_RWEO_PstOL_signals.csv\n"
     ]
    },
    {
     "name": "stderr",
     "output_type": "stream",
     "text": [
      "c:\\Users\\Sami\\anaconda3\\Lib\\site-packages\\scipy\\signal\\_spectral_py.py:600: UserWarning: nperseg = 1024 is greater than input length  = 144, using nperseg = 144\n",
      "  freqs, _, Pxy = _spectral_helper(x, y, fs, window, nperseg, noverlap,\n"
     ]
    },
    {
     "name": "stdout",
     "output_type": "stream",
     "text": [
      "Extracted features from S01_E_RWEO_PreCL_signals.csv\n"
     ]
    },
    {
     "name": "stderr",
     "output_type": "stream",
     "text": [
      "c:\\Users\\Sami\\anaconda3\\Lib\\site-packages\\scipy\\signal\\_spectral_py.py:600: UserWarning: nperseg = 1024 is greater than input length  = 144, using nperseg = 144\n",
      "  freqs, _, Pxy = _spectral_helper(x, y, fs, window, nperseg, noverlap,\n"
     ]
    },
    {
     "name": "stdout",
     "output_type": "stream",
     "text": [
      "Extracted features from S01_F_CL_Sil_50_100_signals.csv\n"
     ]
    },
    {
     "name": "stderr",
     "output_type": "stream",
     "text": [
      "c:\\Users\\Sami\\anaconda3\\Lib\\site-packages\\scipy\\signal\\_spectral_py.py:600: UserWarning: nperseg = 1024 is greater than input length  = 144, using nperseg = 144\n",
      "  freqs, _, Pxy = _spectral_helper(x, y, fs, window, nperseg, noverlap,\n"
     ]
    },
    {
     "name": "stdout",
     "output_type": "stream",
     "text": [
      "Extracted features from S01_G_RWEO_PstCL_signals.csv\n"
     ]
    },
    {
     "name": "stderr",
     "output_type": "stream",
     "text": [
      "c:\\Users\\Sami\\anaconda3\\Lib\\site-packages\\scipy\\signal\\_spectral_py.py:600: UserWarning: nperseg = 1024 is greater than input length  = 144, using nperseg = 144\n",
      "  freqs, _, Pxy = _spectral_helper(x, y, fs, window, nperseg, noverlap,\n"
     ]
    },
    {
     "name": "stdout",
     "output_type": "stream",
     "text": [
      "Extracted features from S02_B_RWEO_PreOL_signals.csv\n"
     ]
    },
    {
     "name": "stderr",
     "output_type": "stream",
     "text": [
      "c:\\Users\\Sami\\anaconda3\\Lib\\site-packages\\scipy\\signal\\_spectral_py.py:600: UserWarning: nperseg = 1024 is greater than input length  = 144, using nperseg = 144\n",
      "  freqs, _, Pxy = _spectral_helper(x, y, fs, window, nperseg, noverlap,\n"
     ]
    },
    {
     "name": "stdout",
     "output_type": "stream",
     "text": [
      "Extracted features from S02_C_OLoop_signals.csv\n"
     ]
    },
    {
     "name": "stderr",
     "output_type": "stream",
     "text": [
      "c:\\Users\\Sami\\anaconda3\\Lib\\site-packages\\scipy\\signal\\_spectral_py.py:600: UserWarning: nperseg = 1024 is greater than input length  = 144, using nperseg = 144\n",
      "  freqs, _, Pxy = _spectral_helper(x, y, fs, window, nperseg, noverlap,\n"
     ]
    },
    {
     "name": "stdout",
     "output_type": "stream",
     "text": [
      "Extracted features from S02_D_RWEO_PstOL_signals.csv\n"
     ]
    },
    {
     "name": "stderr",
     "output_type": "stream",
     "text": [
      "c:\\Users\\Sami\\anaconda3\\Lib\\site-packages\\scipy\\signal\\_spectral_py.py:600: UserWarning: nperseg = 1024 is greater than input length  = 144, using nperseg = 144\n",
      "  freqs, _, Pxy = _spectral_helper(x, y, fs, window, nperseg, noverlap,\n"
     ]
    },
    {
     "name": "stdout",
     "output_type": "stream",
     "text": [
      "Extracted features from S02_E_RWEO_PreCL_signals.csv\n"
     ]
    },
    {
     "name": "stderr",
     "output_type": "stream",
     "text": [
      "c:\\Users\\Sami\\anaconda3\\Lib\\site-packages\\scipy\\signal\\_spectral_py.py:600: UserWarning: nperseg = 1024 is greater than input length  = 144, using nperseg = 144\n",
      "  freqs, _, Pxy = _spectral_helper(x, y, fs, window, nperseg, noverlap,\n"
     ]
    },
    {
     "name": "stdout",
     "output_type": "stream",
     "text": [
      "Extracted features from S02_F_CL_Sil_50_100_signals.csv\n"
     ]
    },
    {
     "name": "stderr",
     "output_type": "stream",
     "text": [
      "c:\\Users\\Sami\\anaconda3\\Lib\\site-packages\\scipy\\signal\\_spectral_py.py:600: UserWarning: nperseg = 1024 is greater than input length  = 144, using nperseg = 144\n",
      "  freqs, _, Pxy = _spectral_helper(x, y, fs, window, nperseg, noverlap,\n"
     ]
    },
    {
     "name": "stdout",
     "output_type": "stream",
     "text": [
      "Extracted features from S02_G_RWEO_PstCL_signals.csv\n"
     ]
    },
    {
     "name": "stderr",
     "output_type": "stream",
     "text": [
      "c:\\Users\\Sami\\anaconda3\\Lib\\site-packages\\scipy\\signal\\_spectral_py.py:600: UserWarning: nperseg = 1024 is greater than input length  = 144, using nperseg = 144\n",
      "  freqs, _, Pxy = _spectral_helper(x, y, fs, window, nperseg, noverlap,\n"
     ]
    },
    {
     "name": "stdout",
     "output_type": "stream",
     "text": [
      "Extracted features from S03_B_RWEO_PreOL_signals.csv\n"
     ]
    },
    {
     "name": "stderr",
     "output_type": "stream",
     "text": [
      "c:\\Users\\Sami\\anaconda3\\Lib\\site-packages\\scipy\\signal\\_spectral_py.py:600: UserWarning: nperseg = 1024 is greater than input length  = 144, using nperseg = 144\n",
      "  freqs, _, Pxy = _spectral_helper(x, y, fs, window, nperseg, noverlap,\n"
     ]
    },
    {
     "name": "stdout",
     "output_type": "stream",
     "text": [
      "Extracted features from S03_C_OLoop_signals.csv\n"
     ]
    },
    {
     "name": "stderr",
     "output_type": "stream",
     "text": [
      "c:\\Users\\Sami\\anaconda3\\Lib\\site-packages\\scipy\\signal\\_spectral_py.py:600: UserWarning: nperseg = 1024 is greater than input length  = 144, using nperseg = 144\n",
      "  freqs, _, Pxy = _spectral_helper(x, y, fs, window, nperseg, noverlap,\n"
     ]
    },
    {
     "name": "stdout",
     "output_type": "stream",
     "text": [
      "Extracted features from S03_D_RWEO_PstOL_signals.csv\n"
     ]
    },
    {
     "name": "stderr",
     "output_type": "stream",
     "text": [
      "c:\\Users\\Sami\\anaconda3\\Lib\\site-packages\\scipy\\signal\\_spectral_py.py:600: UserWarning: nperseg = 1024 is greater than input length  = 144, using nperseg = 144\n",
      "  freqs, _, Pxy = _spectral_helper(x, y, fs, window, nperseg, noverlap,\n"
     ]
    },
    {
     "name": "stdout",
     "output_type": "stream",
     "text": [
      "Extracted features from S03_E_RWEO_PreCL_signals.csv\n"
     ]
    },
    {
     "name": "stderr",
     "output_type": "stream",
     "text": [
      "c:\\Users\\Sami\\anaconda3\\Lib\\site-packages\\scipy\\signal\\_spectral_py.py:600: UserWarning: nperseg = 1024 is greater than input length  = 144, using nperseg = 144\n",
      "  freqs, _, Pxy = _spectral_helper(x, y, fs, window, nperseg, noverlap,\n"
     ]
    },
    {
     "name": "stdout",
     "output_type": "stream",
     "text": [
      "Extracted features from S03_F_CL_Sil_50_100_signals.csv\n"
     ]
    },
    {
     "name": "stderr",
     "output_type": "stream",
     "text": [
      "c:\\Users\\Sami\\anaconda3\\Lib\\site-packages\\scipy\\signal\\_spectral_py.py:600: UserWarning: nperseg = 1024 is greater than input length  = 144, using nperseg = 144\n",
      "  freqs, _, Pxy = _spectral_helper(x, y, fs, window, nperseg, noverlap,\n"
     ]
    },
    {
     "name": "stdout",
     "output_type": "stream",
     "text": [
      "Extracted features from S03_G_RWEO_PstCL_signals.csv\n"
     ]
    },
    {
     "name": "stderr",
     "output_type": "stream",
     "text": [
      "c:\\Users\\Sami\\anaconda3\\Lib\\site-packages\\scipy\\signal\\_spectral_py.py:600: UserWarning: nperseg = 1024 is greater than input length  = 144, using nperseg = 144\n",
      "  freqs, _, Pxy = _spectral_helper(x, y, fs, window, nperseg, noverlap,\n"
     ]
    },
    {
     "name": "stdout",
     "output_type": "stream",
     "text": [
      "Extracted features from S04_B_RWEO_PreOL_signals.csv\n"
     ]
    },
    {
     "name": "stderr",
     "output_type": "stream",
     "text": [
      "c:\\Users\\Sami\\anaconda3\\Lib\\site-packages\\scipy\\signal\\_spectral_py.py:600: UserWarning: nperseg = 1024 is greater than input length  = 144, using nperseg = 144\n",
      "  freqs, _, Pxy = _spectral_helper(x, y, fs, window, nperseg, noverlap,\n"
     ]
    },
    {
     "name": "stdout",
     "output_type": "stream",
     "text": [
      "Extracted features from S04_C_OLoop_signals.csv\n"
     ]
    },
    {
     "name": "stderr",
     "output_type": "stream",
     "text": [
      "c:\\Users\\Sami\\anaconda3\\Lib\\site-packages\\scipy\\signal\\_spectral_py.py:600: UserWarning: nperseg = 1024 is greater than input length  = 144, using nperseg = 144\n",
      "  freqs, _, Pxy = _spectral_helper(x, y, fs, window, nperseg, noverlap,\n"
     ]
    },
    {
     "name": "stdout",
     "output_type": "stream",
     "text": [
      "Extracted features from S04_D_RWEO_PstOL_signals.csv\n"
     ]
    },
    {
     "name": "stderr",
     "output_type": "stream",
     "text": [
      "c:\\Users\\Sami\\anaconda3\\Lib\\site-packages\\scipy\\signal\\_spectral_py.py:600: UserWarning: nperseg = 1024 is greater than input length  = 144, using nperseg = 144\n",
      "  freqs, _, Pxy = _spectral_helper(x, y, fs, window, nperseg, noverlap,\n"
     ]
    },
    {
     "name": "stdout",
     "output_type": "stream",
     "text": [
      "Extracted features from S04_F_CL_Sil_50_100_signals.csv\n"
     ]
    },
    {
     "name": "stderr",
     "output_type": "stream",
     "text": [
      "c:\\Users\\Sami\\anaconda3\\Lib\\site-packages\\scipy\\signal\\_spectral_py.py:600: UserWarning: nperseg = 1024 is greater than input length  = 144, using nperseg = 144\n",
      "  freqs, _, Pxy = _spectral_helper(x, y, fs, window, nperseg, noverlap,\n"
     ]
    },
    {
     "name": "stdout",
     "output_type": "stream",
     "text": [
      "Extracted features from S04_G_RWEO_PstCL_signals.csv\n"
     ]
    },
    {
     "name": "stderr",
     "output_type": "stream",
     "text": [
      "c:\\Users\\Sami\\anaconda3\\Lib\\site-packages\\scipy\\signal\\_spectral_py.py:600: UserWarning: nperseg = 1024 is greater than input length  = 144, using nperseg = 144\n",
      "  freqs, _, Pxy = _spectral_helper(x, y, fs, window, nperseg, noverlap,\n"
     ]
    },
    {
     "name": "stdout",
     "output_type": "stream",
     "text": [
      "Extracted features from S05_B_RWEO_PreOL_signals.csv\n"
     ]
    },
    {
     "name": "stderr",
     "output_type": "stream",
     "text": [
      "c:\\Users\\Sami\\anaconda3\\Lib\\site-packages\\scipy\\signal\\_spectral_py.py:600: UserWarning: nperseg = 1024 is greater than input length  = 144, using nperseg = 144\n",
      "  freqs, _, Pxy = _spectral_helper(x, y, fs, window, nperseg, noverlap,\n"
     ]
    },
    {
     "name": "stdout",
     "output_type": "stream",
     "text": [
      "Extracted features from S05_C_OLoop_signals.csv\n"
     ]
    },
    {
     "name": "stderr",
     "output_type": "stream",
     "text": [
      "c:\\Users\\Sami\\anaconda3\\Lib\\site-packages\\scipy\\signal\\_spectral_py.py:600: UserWarning: nperseg = 1024 is greater than input length  = 144, using nperseg = 144\n",
      "  freqs, _, Pxy = _spectral_helper(x, y, fs, window, nperseg, noverlap,\n"
     ]
    },
    {
     "name": "stdout",
     "output_type": "stream",
     "text": [
      "Extracted features from S05_D_RWEO_PstOL_signals.csv\n"
     ]
    },
    {
     "name": "stderr",
     "output_type": "stream",
     "text": [
      "c:\\Users\\Sami\\anaconda3\\Lib\\site-packages\\scipy\\signal\\_spectral_py.py:600: UserWarning: nperseg = 1024 is greater than input length  = 144, using nperseg = 144\n",
      "  freqs, _, Pxy = _spectral_helper(x, y, fs, window, nperseg, noverlap,\n"
     ]
    },
    {
     "name": "stdout",
     "output_type": "stream",
     "text": [
      "Extracted features from S05_E_RWEO_PreCL_signals.csv\n"
     ]
    },
    {
     "name": "stderr",
     "output_type": "stream",
     "text": [
      "c:\\Users\\Sami\\anaconda3\\Lib\\site-packages\\scipy\\signal\\_spectral_py.py:600: UserWarning: nperseg = 1024 is greater than input length  = 144, using nperseg = 144\n",
      "  freqs, _, Pxy = _spectral_helper(x, y, fs, window, nperseg, noverlap,\n"
     ]
    },
    {
     "name": "stdout",
     "output_type": "stream",
     "text": [
      "Extracted features from S05_F_CL_Sil_50_100_signals.csv\n"
     ]
    },
    {
     "name": "stderr",
     "output_type": "stream",
     "text": [
      "c:\\Users\\Sami\\anaconda3\\Lib\\site-packages\\scipy\\signal\\_spectral_py.py:600: UserWarning: nperseg = 1024 is greater than input length  = 144, using nperseg = 144\n",
      "  freqs, _, Pxy = _spectral_helper(x, y, fs, window, nperseg, noverlap,\n"
     ]
    },
    {
     "name": "stdout",
     "output_type": "stream",
     "text": [
      "Extracted features from S05_G_RWEO_PstCL_signals.csv\n"
     ]
    },
    {
     "name": "stderr",
     "output_type": "stream",
     "text": [
      "c:\\Users\\Sami\\anaconda3\\Lib\\site-packages\\scipy\\signal\\_spectral_py.py:600: UserWarning: nperseg = 1024 is greater than input length  = 144, using nperseg = 144\n",
      "  freqs, _, Pxy = _spectral_helper(x, y, fs, window, nperseg, noverlap,\n"
     ]
    },
    {
     "name": "stdout",
     "output_type": "stream",
     "text": [
      "Extracted features from S06_B_RWEO_PreOL_signals.csv\n"
     ]
    },
    {
     "name": "stderr",
     "output_type": "stream",
     "text": [
      "c:\\Users\\Sami\\anaconda3\\Lib\\site-packages\\scipy\\signal\\_spectral_py.py:600: UserWarning: nperseg = 1024 is greater than input length  = 144, using nperseg = 144\n",
      "  freqs, _, Pxy = _spectral_helper(x, y, fs, window, nperseg, noverlap,\n"
     ]
    },
    {
     "name": "stdout",
     "output_type": "stream",
     "text": [
      "Extracted features from S06_C_OLoop_signals.csv\n"
     ]
    },
    {
     "name": "stderr",
     "output_type": "stream",
     "text": [
      "c:\\Users\\Sami\\anaconda3\\Lib\\site-packages\\scipy\\signal\\_spectral_py.py:600: UserWarning: nperseg = 1024 is greater than input length  = 144, using nperseg = 144\n",
      "  freqs, _, Pxy = _spectral_helper(x, y, fs, window, nperseg, noverlap,\n"
     ]
    },
    {
     "name": "stdout",
     "output_type": "stream",
     "text": [
      "Extracted features from S06_D_RWEO_PstOL_signals.csv\n"
     ]
    },
    {
     "name": "stderr",
     "output_type": "stream",
     "text": [
      "c:\\Users\\Sami\\anaconda3\\Lib\\site-packages\\scipy\\signal\\_spectral_py.py:600: UserWarning: nperseg = 1024 is greater than input length  = 144, using nperseg = 144\n",
      "  freqs, _, Pxy = _spectral_helper(x, y, fs, window, nperseg, noverlap,\n"
     ]
    },
    {
     "name": "stdout",
     "output_type": "stream",
     "text": [
      "Extracted features from S06_E_RWEO_PreCL_signals.csv\n"
     ]
    },
    {
     "name": "stderr",
     "output_type": "stream",
     "text": [
      "c:\\Users\\Sami\\anaconda3\\Lib\\site-packages\\scipy\\signal\\_spectral_py.py:600: UserWarning: nperseg = 1024 is greater than input length  = 144, using nperseg = 144\n",
      "  freqs, _, Pxy = _spectral_helper(x, y, fs, window, nperseg, noverlap,\n"
     ]
    },
    {
     "name": "stdout",
     "output_type": "stream",
     "text": [
      "Extracted features from S06_F_CL_Sil_50_100_signals.csv\n"
     ]
    },
    {
     "name": "stderr",
     "output_type": "stream",
     "text": [
      "c:\\Users\\Sami\\anaconda3\\Lib\\site-packages\\scipy\\signal\\_spectral_py.py:600: UserWarning: nperseg = 1024 is greater than input length  = 144, using nperseg = 144\n",
      "  freqs, _, Pxy = _spectral_helper(x, y, fs, window, nperseg, noverlap,\n"
     ]
    },
    {
     "name": "stdout",
     "output_type": "stream",
     "text": [
      "Extracted features from S06_G_RWEO_PstCL_signals.csv\n"
     ]
    },
    {
     "name": "stderr",
     "output_type": "stream",
     "text": [
      "c:\\Users\\Sami\\anaconda3\\Lib\\site-packages\\scipy\\signal\\_spectral_py.py:600: UserWarning: nperseg = 1024 is greater than input length  = 144, using nperseg = 144\n",
      "  freqs, _, Pxy = _spectral_helper(x, y, fs, window, nperseg, noverlap,\n"
     ]
    },
    {
     "name": "stdout",
     "output_type": "stream",
     "text": [
      "Extracted features from S07_B_RWEO_PreOL_signals.csv\n"
     ]
    },
    {
     "name": "stderr",
     "output_type": "stream",
     "text": [
      "c:\\Users\\Sami\\anaconda3\\Lib\\site-packages\\scipy\\signal\\_spectral_py.py:600: UserWarning: nperseg = 1024 is greater than input length  = 144, using nperseg = 144\n",
      "  freqs, _, Pxy = _spectral_helper(x, y, fs, window, nperseg, noverlap,\n"
     ]
    },
    {
     "name": "stdout",
     "output_type": "stream",
     "text": [
      "Extracted features from S07_C_OLoop_signals.csv\n"
     ]
    },
    {
     "name": "stderr",
     "output_type": "stream",
     "text": [
      "c:\\Users\\Sami\\anaconda3\\Lib\\site-packages\\scipy\\signal\\_spectral_py.py:600: UserWarning: nperseg = 1024 is greater than input length  = 144, using nperseg = 144\n",
      "  freqs, _, Pxy = _spectral_helper(x, y, fs, window, nperseg, noverlap,\n"
     ]
    },
    {
     "name": "stdout",
     "output_type": "stream",
     "text": [
      "Extracted features from S07_D_RWEO_PstOL_signals.csv\n"
     ]
    },
    {
     "name": "stderr",
     "output_type": "stream",
     "text": [
      "c:\\Users\\Sami\\anaconda3\\Lib\\site-packages\\scipy\\signal\\_spectral_py.py:600: UserWarning: nperseg = 1024 is greater than input length  = 144, using nperseg = 144\n",
      "  freqs, _, Pxy = _spectral_helper(x, y, fs, window, nperseg, noverlap,\n"
     ]
    },
    {
     "name": "stdout",
     "output_type": "stream",
     "text": [
      "Extracted features from S07_E_RWEO_PreCL_signals.csv\n"
     ]
    },
    {
     "name": "stderr",
     "output_type": "stream",
     "text": [
      "c:\\Users\\Sami\\anaconda3\\Lib\\site-packages\\scipy\\signal\\_spectral_py.py:600: UserWarning: nperseg = 1024 is greater than input length  = 144, using nperseg = 144\n",
      "  freqs, _, Pxy = _spectral_helper(x, y, fs, window, nperseg, noverlap,\n"
     ]
    },
    {
     "name": "stdout",
     "output_type": "stream",
     "text": [
      "Extracted features from S07_F_CL_Sil_50_100_signals.csv\n"
     ]
    },
    {
     "name": "stderr",
     "output_type": "stream",
     "text": [
      "c:\\Users\\Sami\\anaconda3\\Lib\\site-packages\\scipy\\signal\\_spectral_py.py:600: UserWarning: nperseg = 1024 is greater than input length  = 144, using nperseg = 144\n",
      "  freqs, _, Pxy = _spectral_helper(x, y, fs, window, nperseg, noverlap,\n"
     ]
    },
    {
     "name": "stdout",
     "output_type": "stream",
     "text": [
      "Extracted features from S07_G_RWEO_PstCL_signals.csv\n"
     ]
    },
    {
     "name": "stderr",
     "output_type": "stream",
     "text": [
      "c:\\Users\\Sami\\anaconda3\\Lib\\site-packages\\scipy\\signal\\_spectral_py.py:600: UserWarning: nperseg = 1024 is greater than input length  = 144, using nperseg = 144\n",
      "  freqs, _, Pxy = _spectral_helper(x, y, fs, window, nperseg, noverlap,\n"
     ]
    },
    {
     "name": "stdout",
     "output_type": "stream",
     "text": [
      "Extracted features from S08_B_RWEO_PreOL_signals.csv\n"
     ]
    },
    {
     "name": "stderr",
     "output_type": "stream",
     "text": [
      "c:\\Users\\Sami\\anaconda3\\Lib\\site-packages\\scipy\\signal\\_spectral_py.py:600: UserWarning: nperseg = 1024 is greater than input length  = 144, using nperseg = 144\n",
      "  freqs, _, Pxy = _spectral_helper(x, y, fs, window, nperseg, noverlap,\n"
     ]
    },
    {
     "name": "stdout",
     "output_type": "stream",
     "text": [
      "Extracted features from S08_C_OLoop_signals.csv\n"
     ]
    },
    {
     "name": "stderr",
     "output_type": "stream",
     "text": [
      "c:\\Users\\Sami\\anaconda3\\Lib\\site-packages\\scipy\\signal\\_spectral_py.py:600: UserWarning: nperseg = 1024 is greater than input length  = 144, using nperseg = 144\n",
      "  freqs, _, Pxy = _spectral_helper(x, y, fs, window, nperseg, noverlap,\n"
     ]
    },
    {
     "name": "stdout",
     "output_type": "stream",
     "text": [
      "Extracted features from S08_D_RWEO_PstOL_signals.csv\n"
     ]
    },
    {
     "name": "stderr",
     "output_type": "stream",
     "text": [
      "c:\\Users\\Sami\\anaconda3\\Lib\\site-packages\\scipy\\signal\\_spectral_py.py:600: UserWarning: nperseg = 1024 is greater than input length  = 144, using nperseg = 144\n",
      "  freqs, _, Pxy = _spectral_helper(x, y, fs, window, nperseg, noverlap,\n"
     ]
    },
    {
     "name": "stdout",
     "output_type": "stream",
     "text": [
      "Extracted features from S08_E_RWEO_PreCL_signals.csv\n"
     ]
    },
    {
     "name": "stderr",
     "output_type": "stream",
     "text": [
      "c:\\Users\\Sami\\anaconda3\\Lib\\site-packages\\scipy\\signal\\_spectral_py.py:600: UserWarning: nperseg = 1024 is greater than input length  = 144, using nperseg = 144\n",
      "  freqs, _, Pxy = _spectral_helper(x, y, fs, window, nperseg, noverlap,\n"
     ]
    },
    {
     "name": "stdout",
     "output_type": "stream",
     "text": [
      "Extracted features from S08_F_CL_Sil_50_100_signals.csv\n"
     ]
    },
    {
     "name": "stderr",
     "output_type": "stream",
     "text": [
      "c:\\Users\\Sami\\anaconda3\\Lib\\site-packages\\scipy\\signal\\_spectral_py.py:600: UserWarning: nperseg = 1024 is greater than input length  = 144, using nperseg = 144\n",
      "  freqs, _, Pxy = _spectral_helper(x, y, fs, window, nperseg, noverlap,\n"
     ]
    },
    {
     "name": "stdout",
     "output_type": "stream",
     "text": [
      "Extracted features from S08_G_RWEO_PstCL_signals.csv\n"
     ]
    },
    {
     "name": "stderr",
     "output_type": "stream",
     "text": [
      "c:\\Users\\Sami\\anaconda3\\Lib\\site-packages\\scipy\\signal\\_spectral_py.py:600: UserWarning: nperseg = 1024 is greater than input length  = 144, using nperseg = 144\n",
      "  freqs, _, Pxy = _spectral_helper(x, y, fs, window, nperseg, noverlap,\n"
     ]
    },
    {
     "name": "stdout",
     "output_type": "stream",
     "text": [
      "Extracted features from S09_B_RWEO_PreOL_signals.csv\n"
     ]
    },
    {
     "name": "stderr",
     "output_type": "stream",
     "text": [
      "c:\\Users\\Sami\\anaconda3\\Lib\\site-packages\\scipy\\signal\\_spectral_py.py:600: UserWarning: nperseg = 1024 is greater than input length  = 144, using nperseg = 144\n",
      "  freqs, _, Pxy = _spectral_helper(x, y, fs, window, nperseg, noverlap,\n"
     ]
    },
    {
     "name": "stdout",
     "output_type": "stream",
     "text": [
      "Extracted features from S09_C_OLoop_signals.csv\n"
     ]
    },
    {
     "name": "stderr",
     "output_type": "stream",
     "text": [
      "c:\\Users\\Sami\\anaconda3\\Lib\\site-packages\\scipy\\signal\\_spectral_py.py:600: UserWarning: nperseg = 1024 is greater than input length  = 144, using nperseg = 144\n",
      "  freqs, _, Pxy = _spectral_helper(x, y, fs, window, nperseg, noverlap,\n"
     ]
    },
    {
     "name": "stdout",
     "output_type": "stream",
     "text": [
      "Extracted features from S09_D_RWEO_PstOL_signals.csv\n"
     ]
    },
    {
     "name": "stderr",
     "output_type": "stream",
     "text": [
      "c:\\Users\\Sami\\anaconda3\\Lib\\site-packages\\scipy\\signal\\_spectral_py.py:600: UserWarning: nperseg = 1024 is greater than input length  = 144, using nperseg = 144\n",
      "  freqs, _, Pxy = _spectral_helper(x, y, fs, window, nperseg, noverlap,\n"
     ]
    },
    {
     "name": "stdout",
     "output_type": "stream",
     "text": [
      "Extracted features from S09_E_RWEO_PreCL_signals.csv\n"
     ]
    },
    {
     "name": "stderr",
     "output_type": "stream",
     "text": [
      "c:\\Users\\Sami\\anaconda3\\Lib\\site-packages\\scipy\\signal\\_spectral_py.py:600: UserWarning: nperseg = 1024 is greater than input length  = 144, using nperseg = 144\n",
      "  freqs, _, Pxy = _spectral_helper(x, y, fs, window, nperseg, noverlap,\n"
     ]
    },
    {
     "name": "stdout",
     "output_type": "stream",
     "text": [
      "Extracted features from S09_F_CL_Sil_50_100_signals.csv\n"
     ]
    },
    {
     "name": "stderr",
     "output_type": "stream",
     "text": [
      "c:\\Users\\Sami\\anaconda3\\Lib\\site-packages\\scipy\\signal\\_spectral_py.py:600: UserWarning: nperseg = 1024 is greater than input length  = 144, using nperseg = 144\n",
      "  freqs, _, Pxy = _spectral_helper(x, y, fs, window, nperseg, noverlap,\n"
     ]
    },
    {
     "name": "stdout",
     "output_type": "stream",
     "text": [
      "Extracted features from S09_G_RWEO_PstCL_signals.csv\n"
     ]
    },
    {
     "name": "stderr",
     "output_type": "stream",
     "text": [
      "c:\\Users\\Sami\\anaconda3\\Lib\\site-packages\\scipy\\signal\\_spectral_py.py:600: UserWarning: nperseg = 1024 is greater than input length  = 144, using nperseg = 144\n",
      "  freqs, _, Pxy = _spectral_helper(x, y, fs, window, nperseg, noverlap,\n"
     ]
    },
    {
     "name": "stdout",
     "output_type": "stream",
     "text": [
      "Extracted features from S10_B_RWEO_PreOL_signals.csv\n"
     ]
    },
    {
     "name": "stderr",
     "output_type": "stream",
     "text": [
      "c:\\Users\\Sami\\anaconda3\\Lib\\site-packages\\scipy\\signal\\_spectral_py.py:600: UserWarning: nperseg = 1024 is greater than input length  = 144, using nperseg = 144\n",
      "  freqs, _, Pxy = _spectral_helper(x, y, fs, window, nperseg, noverlap,\n"
     ]
    },
    {
     "name": "stdout",
     "output_type": "stream",
     "text": [
      "Extracted features from S10_C_OLoop_signals.csv\n"
     ]
    },
    {
     "name": "stderr",
     "output_type": "stream",
     "text": [
      "c:\\Users\\Sami\\anaconda3\\Lib\\site-packages\\scipy\\signal\\_spectral_py.py:600: UserWarning: nperseg = 1024 is greater than input length  = 144, using nperseg = 144\n",
      "  freqs, _, Pxy = _spectral_helper(x, y, fs, window, nperseg, noverlap,\n"
     ]
    },
    {
     "name": "stdout",
     "output_type": "stream",
     "text": [
      "Extracted features from S10_E_RWEO_PreCL_signals.csv\n"
     ]
    },
    {
     "name": "stderr",
     "output_type": "stream",
     "text": [
      "c:\\Users\\Sami\\anaconda3\\Lib\\site-packages\\scipy\\signal\\_spectral_py.py:600: UserWarning: nperseg = 1024 is greater than input length  = 144, using nperseg = 144\n",
      "  freqs, _, Pxy = _spectral_helper(x, y, fs, window, nperseg, noverlap,\n"
     ]
    },
    {
     "name": "stdout",
     "output_type": "stream",
     "text": [
      "Extracted features from S10_F_CL_Sil_50_100_signals.csv\n"
     ]
    },
    {
     "name": "stderr",
     "output_type": "stream",
     "text": [
      "c:\\Users\\Sami\\anaconda3\\Lib\\site-packages\\scipy\\signal\\_spectral_py.py:600: UserWarning: nperseg = 1024 is greater than input length  = 144, using nperseg = 144\n",
      "  freqs, _, Pxy = _spectral_helper(x, y, fs, window, nperseg, noverlap,\n"
     ]
    },
    {
     "name": "stdout",
     "output_type": "stream",
     "text": [
      "Extracted features from S10_G_RWEO_PstCL_signals.csv\n"
     ]
    },
    {
     "name": "stderr",
     "output_type": "stream",
     "text": [
      "c:\\Users\\Sami\\anaconda3\\Lib\\site-packages\\scipy\\signal\\_spectral_py.py:600: UserWarning: nperseg = 1024 is greater than input length  = 144, using nperseg = 144\n",
      "  freqs, _, Pxy = _spectral_helper(x, y, fs, window, nperseg, noverlap,\n"
     ]
    },
    {
     "name": "stdout",
     "output_type": "stream",
     "text": [
      "Extracted features from S11_B_RWEO_PreOL_signals.csv\n"
     ]
    },
    {
     "name": "stderr",
     "output_type": "stream",
     "text": [
      "c:\\Users\\Sami\\anaconda3\\Lib\\site-packages\\scipy\\signal\\_spectral_py.py:600: UserWarning: nperseg = 1024 is greater than input length  = 144, using nperseg = 144\n",
      "  freqs, _, Pxy = _spectral_helper(x, y, fs, window, nperseg, noverlap,\n"
     ]
    },
    {
     "name": "stdout",
     "output_type": "stream",
     "text": [
      "Extracted features from S11_C_OLoop_signals.csv\n"
     ]
    },
    {
     "name": "stderr",
     "output_type": "stream",
     "text": [
      "c:\\Users\\Sami\\anaconda3\\Lib\\site-packages\\scipy\\signal\\_spectral_py.py:600: UserWarning: nperseg = 1024 is greater than input length  = 144, using nperseg = 144\n",
      "  freqs, _, Pxy = _spectral_helper(x, y, fs, window, nperseg, noverlap,\n"
     ]
    },
    {
     "name": "stdout",
     "output_type": "stream",
     "text": [
      "Extracted features from S11_D_RWEO_PstOL_signals.csv\n"
     ]
    },
    {
     "name": "stderr",
     "output_type": "stream",
     "text": [
      "c:\\Users\\Sami\\anaconda3\\Lib\\site-packages\\scipy\\signal\\_spectral_py.py:600: UserWarning: nperseg = 1024 is greater than input length  = 144, using nperseg = 144\n",
      "  freqs, _, Pxy = _spectral_helper(x, y, fs, window, nperseg, noverlap,\n"
     ]
    },
    {
     "name": "stdout",
     "output_type": "stream",
     "text": [
      "Extracted features from S11_E_RWEO_PreCL_signals.csv\n"
     ]
    },
    {
     "name": "stderr",
     "output_type": "stream",
     "text": [
      "c:\\Users\\Sami\\anaconda3\\Lib\\site-packages\\scipy\\signal\\_spectral_py.py:600: UserWarning: nperseg = 1024 is greater than input length  = 144, using nperseg = 144\n",
      "  freqs, _, Pxy = _spectral_helper(x, y, fs, window, nperseg, noverlap,\n"
     ]
    },
    {
     "name": "stdout",
     "output_type": "stream",
     "text": [
      "Extracted features from S11_F_CL_Sil_50_100_signals.csv\n"
     ]
    },
    {
     "name": "stderr",
     "output_type": "stream",
     "text": [
      "c:\\Users\\Sami\\anaconda3\\Lib\\site-packages\\scipy\\signal\\_spectral_py.py:600: UserWarning: nperseg = 1024 is greater than input length  = 144, using nperseg = 144\n",
      "  freqs, _, Pxy = _spectral_helper(x, y, fs, window, nperseg, noverlap,\n"
     ]
    },
    {
     "name": "stdout",
     "output_type": "stream",
     "text": [
      "Extracted features from S11_G_RWEO_PstCL_signals.csv\n"
     ]
    },
    {
     "name": "stderr",
     "output_type": "stream",
     "text": [
      "c:\\Users\\Sami\\anaconda3\\Lib\\site-packages\\scipy\\signal\\_spectral_py.py:600: UserWarning: nperseg = 1024 is greater than input length  = 144, using nperseg = 144\n",
      "  freqs, _, Pxy = _spectral_helper(x, y, fs, window, nperseg, noverlap,\n"
     ]
    },
    {
     "name": "stdout",
     "output_type": "stream",
     "text": [
      "Extracted features from S12_B_RWEO_PreOL_signals.csv\n"
     ]
    },
    {
     "name": "stderr",
     "output_type": "stream",
     "text": [
      "c:\\Users\\Sami\\anaconda3\\Lib\\site-packages\\scipy\\signal\\_spectral_py.py:600: UserWarning: nperseg = 1024 is greater than input length  = 144, using nperseg = 144\n",
      "  freqs, _, Pxy = _spectral_helper(x, y, fs, window, nperseg, noverlap,\n"
     ]
    },
    {
     "name": "stdout",
     "output_type": "stream",
     "text": [
      "Extracted features from S12_C_OLoop_signals.csv\n"
     ]
    },
    {
     "name": "stderr",
     "output_type": "stream",
     "text": [
      "c:\\Users\\Sami\\anaconda3\\Lib\\site-packages\\scipy\\signal\\_spectral_py.py:600: UserWarning: nperseg = 1024 is greater than input length  = 144, using nperseg = 144\n",
      "  freqs, _, Pxy = _spectral_helper(x, y, fs, window, nperseg, noverlap,\n"
     ]
    },
    {
     "name": "stdout",
     "output_type": "stream",
     "text": [
      "Extracted features from S12_D_RWEO_PstOL_signals.csv\n"
     ]
    },
    {
     "name": "stderr",
     "output_type": "stream",
     "text": [
      "c:\\Users\\Sami\\anaconda3\\Lib\\site-packages\\scipy\\signal\\_spectral_py.py:600: UserWarning: nperseg = 1024 is greater than input length  = 144, using nperseg = 144\n",
      "  freqs, _, Pxy = _spectral_helper(x, y, fs, window, nperseg, noverlap,\n"
     ]
    },
    {
     "name": "stdout",
     "output_type": "stream",
     "text": [
      "Extracted features from S12_E_RWEO_PreCL_signals.csv\n"
     ]
    },
    {
     "name": "stderr",
     "output_type": "stream",
     "text": [
      "c:\\Users\\Sami\\anaconda3\\Lib\\site-packages\\scipy\\signal\\_spectral_py.py:600: UserWarning: nperseg = 1024 is greater than input length  = 144, using nperseg = 144\n",
      "  freqs, _, Pxy = _spectral_helper(x, y, fs, window, nperseg, noverlap,\n"
     ]
    },
    {
     "name": "stdout",
     "output_type": "stream",
     "text": [
      "Extracted features from S12_F_CL_Sil_50_100_signals.csv\n"
     ]
    },
    {
     "name": "stderr",
     "output_type": "stream",
     "text": [
      "c:\\Users\\Sami\\anaconda3\\Lib\\site-packages\\scipy\\signal\\_spectral_py.py:600: UserWarning: nperseg = 1024 is greater than input length  = 144, using nperseg = 144\n",
      "  freqs, _, Pxy = _spectral_helper(x, y, fs, window, nperseg, noverlap,\n"
     ]
    },
    {
     "name": "stdout",
     "output_type": "stream",
     "text": [
      "Extracted features from S12_G_RWEO_PstCL_signals.csv\n"
     ]
    },
    {
     "name": "stderr",
     "output_type": "stream",
     "text": [
      "c:\\Users\\Sami\\anaconda3\\Lib\\site-packages\\scipy\\signal\\_spectral_py.py:600: UserWarning: nperseg = 1024 is greater than input length  = 144, using nperseg = 144\n",
      "  freqs, _, Pxy = _spectral_helper(x, y, fs, window, nperseg, noverlap,\n"
     ]
    },
    {
     "name": "stdout",
     "output_type": "stream",
     "text": [
      "Extracted features from S15_C_OLoop_signals.csv\n"
     ]
    },
    {
     "name": "stderr",
     "output_type": "stream",
     "text": [
      "c:\\Users\\Sami\\anaconda3\\Lib\\site-packages\\scipy\\signal\\_spectral_py.py:600: UserWarning: nperseg = 1024 is greater than input length  = 144, using nperseg = 144\n",
      "  freqs, _, Pxy = _spectral_helper(x, y, fs, window, nperseg, noverlap,\n"
     ]
    },
    {
     "name": "stdout",
     "output_type": "stream",
     "text": [
      "Extracted features from S15_F_CL_Sil_50_100_signals.csv\n"
     ]
    },
    {
     "name": "stderr",
     "output_type": "stream",
     "text": [
      "c:\\Users\\Sami\\anaconda3\\Lib\\site-packages\\scipy\\signal\\_spectral_py.py:600: UserWarning: nperseg = 1024 is greater than input length  = 144, using nperseg = 144\n",
      "  freqs, _, Pxy = _spectral_helper(x, y, fs, window, nperseg, noverlap,\n"
     ]
    },
    {
     "name": "stdout",
     "output_type": "stream",
     "text": [
      "Extracted features from S16_C_OLoop_signals.csv\n"
     ]
    },
    {
     "name": "stderr",
     "output_type": "stream",
     "text": [
      "c:\\Users\\Sami\\anaconda3\\Lib\\site-packages\\scipy\\signal\\_spectral_py.py:600: UserWarning: nperseg = 1024 is greater than input length  = 144, using nperseg = 144\n",
      "  freqs, _, Pxy = _spectral_helper(x, y, fs, window, nperseg, noverlap,\n"
     ]
    },
    {
     "name": "stdout",
     "output_type": "stream",
     "text": [
      "Extracted features from S16_F_CL_Sil_50_100_signals.csv\n"
     ]
    },
    {
     "name": "stderr",
     "output_type": "stream",
     "text": [
      "c:\\Users\\Sami\\anaconda3\\Lib\\site-packages\\scipy\\signal\\_spectral_py.py:600: UserWarning: nperseg = 1024 is greater than input length  = 144, using nperseg = 144\n",
      "  freqs, _, Pxy = _spectral_helper(x, y, fs, window, nperseg, noverlap,\n"
     ]
    },
    {
     "name": "stdout",
     "output_type": "stream",
     "text": [
      "Extracted features from S17_B_RWEO_PreOL_signals.csv\n"
     ]
    },
    {
     "name": "stderr",
     "output_type": "stream",
     "text": [
      "c:\\Users\\Sami\\anaconda3\\Lib\\site-packages\\scipy\\signal\\_spectral_py.py:600: UserWarning: nperseg = 1024 is greater than input length  = 144, using nperseg = 144\n",
      "  freqs, _, Pxy = _spectral_helper(x, y, fs, window, nperseg, noverlap,\n"
     ]
    },
    {
     "name": "stdout",
     "output_type": "stream",
     "text": [
      "Extracted features from S17_C_OLoop_signals.csv\n"
     ]
    },
    {
     "name": "stderr",
     "output_type": "stream",
     "text": [
      "c:\\Users\\Sami\\anaconda3\\Lib\\site-packages\\scipy\\signal\\_spectral_py.py:600: UserWarning: nperseg = 1024 is greater than input length  = 144, using nperseg = 144\n",
      "  freqs, _, Pxy = _spectral_helper(x, y, fs, window, nperseg, noverlap,\n"
     ]
    },
    {
     "name": "stdout",
     "output_type": "stream",
     "text": [
      "Extracted features from S17_D_RWEO_PstOL_signals.csv\n"
     ]
    },
    {
     "name": "stderr",
     "output_type": "stream",
     "text": [
      "c:\\Users\\Sami\\anaconda3\\Lib\\site-packages\\scipy\\signal\\_spectral_py.py:600: UserWarning: nperseg = 1024 is greater than input length  = 144, using nperseg = 144\n",
      "  freqs, _, Pxy = _spectral_helper(x, y, fs, window, nperseg, noverlap,\n"
     ]
    },
    {
     "name": "stdout",
     "output_type": "stream",
     "text": [
      "Extracted features from S17_F_CL_Sil_50_100_signals.csv\n"
     ]
    },
    {
     "name": "stderr",
     "output_type": "stream",
     "text": [
      "c:\\Users\\Sami\\anaconda3\\Lib\\site-packages\\scipy\\signal\\_spectral_py.py:600: UserWarning: nperseg = 1024 is greater than input length  = 144, using nperseg = 144\n",
      "  freqs, _, Pxy = _spectral_helper(x, y, fs, window, nperseg, noverlap,\n"
     ]
    },
    {
     "name": "stdout",
     "output_type": "stream",
     "text": [
      "Extracted features from S18_B_RWEO_PreOL_signals.csv\n"
     ]
    },
    {
     "name": "stderr",
     "output_type": "stream",
     "text": [
      "c:\\Users\\Sami\\anaconda3\\Lib\\site-packages\\scipy\\signal\\_spectral_py.py:600: UserWarning: nperseg = 1024 is greater than input length  = 144, using nperseg = 144\n",
      "  freqs, _, Pxy = _spectral_helper(x, y, fs, window, nperseg, noverlap,\n"
     ]
    },
    {
     "name": "stdout",
     "output_type": "stream",
     "text": [
      "Extracted features from S18_C_OLoop_signals.csv\n"
     ]
    },
    {
     "name": "stderr",
     "output_type": "stream",
     "text": [
      "c:\\Users\\Sami\\anaconda3\\Lib\\site-packages\\scipy\\signal\\_spectral_py.py:600: UserWarning: nperseg = 1024 is greater than input length  = 144, using nperseg = 144\n",
      "  freqs, _, Pxy = _spectral_helper(x, y, fs, window, nperseg, noverlap,\n"
     ]
    },
    {
     "name": "stdout",
     "output_type": "stream",
     "text": [
      "Extracted features from S18_D_RWEO_PstOL_signals.csv\n"
     ]
    },
    {
     "name": "stderr",
     "output_type": "stream",
     "text": [
      "c:\\Users\\Sami\\anaconda3\\Lib\\site-packages\\scipy\\signal\\_spectral_py.py:600: UserWarning: nperseg = 1024 is greater than input length  = 144, using nperseg = 144\n",
      "  freqs, _, Pxy = _spectral_helper(x, y, fs, window, nperseg, noverlap,\n"
     ]
    },
    {
     "name": "stdout",
     "output_type": "stream",
     "text": [
      "Extracted features from S18_E_RWEO_PreCL_signals.csv\n"
     ]
    },
    {
     "name": "stderr",
     "output_type": "stream",
     "text": [
      "c:\\Users\\Sami\\anaconda3\\Lib\\site-packages\\scipy\\signal\\_spectral_py.py:600: UserWarning: nperseg = 1024 is greater than input length  = 144, using nperseg = 144\n",
      "  freqs, _, Pxy = _spectral_helper(x, y, fs, window, nperseg, noverlap,\n"
     ]
    },
    {
     "name": "stdout",
     "output_type": "stream",
     "text": [
      "Extracted features from S18_F_CL_Sil_50_100_signals.csv\n"
     ]
    },
    {
     "name": "stderr",
     "output_type": "stream",
     "text": [
      "c:\\Users\\Sami\\anaconda3\\Lib\\site-packages\\scipy\\signal\\_spectral_py.py:600: UserWarning: nperseg = 1024 is greater than input length  = 144, using nperseg = 144\n",
      "  freqs, _, Pxy = _spectral_helper(x, y, fs, window, nperseg, noverlap,\n"
     ]
    },
    {
     "name": "stdout",
     "output_type": "stream",
     "text": [
      "Extracted features from S18_G_RWEO_PstCL_signals.csv\n"
     ]
    },
    {
     "name": "stderr",
     "output_type": "stream",
     "text": [
      "c:\\Users\\Sami\\anaconda3\\Lib\\site-packages\\scipy\\signal\\_spectral_py.py:600: UserWarning: nperseg = 1024 is greater than input length  = 144, using nperseg = 144\n",
      "  freqs, _, Pxy = _spectral_helper(x, y, fs, window, nperseg, noverlap,\n"
     ]
    },
    {
     "name": "stdout",
     "output_type": "stream",
     "text": [
      "Extracted features from S19_B_RWEO_PreOL_signals.csv\n"
     ]
    },
    {
     "name": "stderr",
     "output_type": "stream",
     "text": [
      "c:\\Users\\Sami\\anaconda3\\Lib\\site-packages\\scipy\\signal\\_spectral_py.py:600: UserWarning: nperseg = 1024 is greater than input length  = 144, using nperseg = 144\n",
      "  freqs, _, Pxy = _spectral_helper(x, y, fs, window, nperseg, noverlap,\n"
     ]
    },
    {
     "name": "stdout",
     "output_type": "stream",
     "text": [
      "Extracted features from S19_C_OLoop_signals.csv\n"
     ]
    },
    {
     "name": "stderr",
     "output_type": "stream",
     "text": [
      "c:\\Users\\Sami\\anaconda3\\Lib\\site-packages\\scipy\\signal\\_spectral_py.py:600: UserWarning: nperseg = 1024 is greater than input length  = 144, using nperseg = 144\n",
      "  freqs, _, Pxy = _spectral_helper(x, y, fs, window, nperseg, noverlap,\n"
     ]
    },
    {
     "name": "stdout",
     "output_type": "stream",
     "text": [
      "Extracted features from S19_D_RWEO_PstOL_signals.csv\n"
     ]
    },
    {
     "name": "stderr",
     "output_type": "stream",
     "text": [
      "c:\\Users\\Sami\\anaconda3\\Lib\\site-packages\\scipy\\signal\\_spectral_py.py:600: UserWarning: nperseg = 1024 is greater than input length  = 144, using nperseg = 144\n",
      "  freqs, _, Pxy = _spectral_helper(x, y, fs, window, nperseg, noverlap,\n"
     ]
    },
    {
     "name": "stdout",
     "output_type": "stream",
     "text": [
      "Extracted features from S19_F_CL_Sil_50_100_signals.csv\n"
     ]
    },
    {
     "name": "stderr",
     "output_type": "stream",
     "text": [
      "c:\\Users\\Sami\\anaconda3\\Lib\\site-packages\\scipy\\signal\\_spectral_py.py:600: UserWarning: nperseg = 1024 is greater than input length  = 144, using nperseg = 144\n",
      "  freqs, _, Pxy = _spectral_helper(x, y, fs, window, nperseg, noverlap,\n"
     ]
    },
    {
     "name": "stdout",
     "output_type": "stream",
     "text": [
      "Extracted features from S19_G_RWEO_PstCL_signals.csv\n"
     ]
    },
    {
     "name": "stderr",
     "output_type": "stream",
     "text": [
      "c:\\Users\\Sami\\anaconda3\\Lib\\site-packages\\scipy\\signal\\_spectral_py.py:600: UserWarning: nperseg = 1024 is greater than input length  = 144, using nperseg = 144\n",
      "  freqs, _, Pxy = _spectral_helper(x, y, fs, window, nperseg, noverlap,\n"
     ]
    },
    {
     "name": "stdout",
     "output_type": "stream",
     "text": [
      "Extracted features from S20_B_RWEO_PreOL_signals.csv\n"
     ]
    },
    {
     "name": "stderr",
     "output_type": "stream",
     "text": [
      "c:\\Users\\Sami\\anaconda3\\Lib\\site-packages\\scipy\\signal\\_spectral_py.py:600: UserWarning: nperseg = 1024 is greater than input length  = 144, using nperseg = 144\n",
      "  freqs, _, Pxy = _spectral_helper(x, y, fs, window, nperseg, noverlap,\n"
     ]
    },
    {
     "name": "stdout",
     "output_type": "stream",
     "text": [
      "Extracted features from S20_C_OLoop_signals.csv\n"
     ]
    },
    {
     "name": "stderr",
     "output_type": "stream",
     "text": [
      "c:\\Users\\Sami\\anaconda3\\Lib\\site-packages\\scipy\\signal\\_spectral_py.py:600: UserWarning: nperseg = 1024 is greater than input length  = 144, using nperseg = 144\n",
      "  freqs, _, Pxy = _spectral_helper(x, y, fs, window, nperseg, noverlap,\n"
     ]
    },
    {
     "name": "stdout",
     "output_type": "stream",
     "text": [
      "Extracted features from S20_D_RWEO_PstOL_signals.csv\n"
     ]
    },
    {
     "name": "stderr",
     "output_type": "stream",
     "text": [
      "c:\\Users\\Sami\\anaconda3\\Lib\\site-packages\\scipy\\signal\\_spectral_py.py:600: UserWarning: nperseg = 1024 is greater than input length  = 144, using nperseg = 144\n",
      "  freqs, _, Pxy = _spectral_helper(x, y, fs, window, nperseg, noverlap,\n"
     ]
    },
    {
     "name": "stdout",
     "output_type": "stream",
     "text": [
      "Extracted features from S20_E_RWEO_PreCL_signals.csv\n"
     ]
    },
    {
     "name": "stderr",
     "output_type": "stream",
     "text": [
      "c:\\Users\\Sami\\anaconda3\\Lib\\site-packages\\scipy\\signal\\_spectral_py.py:600: UserWarning: nperseg = 1024 is greater than input length  = 144, using nperseg = 144\n",
      "  freqs, _, Pxy = _spectral_helper(x, y, fs, window, nperseg, noverlap,\n"
     ]
    },
    {
     "name": "stdout",
     "output_type": "stream",
     "text": [
      "Extracted features from S20_F_CL_Sil_50_100_signals.csv\n"
     ]
    },
    {
     "name": "stderr",
     "output_type": "stream",
     "text": [
      "c:\\Users\\Sami\\anaconda3\\Lib\\site-packages\\scipy\\signal\\_spectral_py.py:600: UserWarning: nperseg = 1024 is greater than input length  = 144, using nperseg = 144\n",
      "  freqs, _, Pxy = _spectral_helper(x, y, fs, window, nperseg, noverlap,\n"
     ]
    },
    {
     "name": "stdout",
     "output_type": "stream",
     "text": [
      "Extracted features from S20_G_RWEO_PstCL_signals.csv\n",
      "All features saved to C:\\Users\\Sami\\Desktop\\Uni\\Flow-EEG-Psych\\data\\features\\eeg_features.csv\n",
      "Metadata saved to C:\\Users\\Sami\\Desktop\\Uni\\Flow-EEG-Psych\\data\\features\\features_metadata.json\n"
     ]
    },
    {
     "ename": "ImportError",
     "evalue": "cannot import name 'main' from 'features.extract_features' (C:\\Users\\Sami\\Desktop\\Uni\\Flow-EEG-Psych\\src\\features\\extract_features.py)",
     "output_type": "error",
     "traceback": [
      "\u001b[1;31m---------------------------------------------------------------------------\u001b[0m",
      "\u001b[1;31mImportError\u001b[0m                               Traceback (most recent call last)",
      "Cell \u001b[1;32mIn[7], line 20\u001b[0m\n\u001b[0;32m     17\u001b[0m os\u001b[38;5;241m.\u001b[39menviron[\u001b[38;5;124m'\u001b[39m\u001b[38;5;124mPROCESSED_DATA_DIR\u001b[39m\u001b[38;5;124m'\u001b[39m] \u001b[38;5;241m=\u001b[39m processed_data_dir\n\u001b[0;32m     19\u001b[0m \u001b[38;5;66;03m# Import and run the main feature extraction function\u001b[39;00m\n\u001b[1;32m---> 20\u001b[0m \u001b[38;5;28;01mfrom\u001b[39;00m \u001b[38;5;21;01mfeatures\u001b[39;00m\u001b[38;5;21;01m.\u001b[39;00m\u001b[38;5;21;01mextract_features\u001b[39;00m \u001b[38;5;28;01mimport\u001b[39;00m main \u001b[38;5;28;01mas\u001b[39;00m extract_features_main\n\u001b[0;32m     22\u001b[0m \u001b[38;5;66;03m# Run the feature extraction\u001b[39;00m\n\u001b[0;32m     23\u001b[0m extract_features_main()\n",
      "\u001b[1;31mImportError\u001b[0m: cannot import name 'main' from 'features.extract_features' (C:\\Users\\Sami\\Desktop\\Uni\\Flow-EEG-Psych\\src\\features\\extract_features.py)"
     ]
    }
   ],
   "source": [
    "import os\n",
    "import sys\n",
    "\n",
    "# Add the path to the src directory\n",
    "src_path = os.path.join(r'C:\\Users\\Sami\\Desktop\\Uni\\Flow-EEG-Psych\\src')\n",
    "if src_path not in sys.path:\n",
    "    sys.path.append(src_path)\n",
    "\n",
    "# Define the processed data directory\n",
    "processed_data_dir = r'C:\\Users\\Sami\\Desktop\\Uni\\Flow-EEG-Psych\\data\\processed'\n",
    "\n",
    "# Ensure the processed data directory exists\n",
    "if not os.path.exists(processed_data_dir):\n",
    "    print(f\"Processed data directory does not exist: {processed_data_dir}\")\n",
    "    sys.exit(1)\n",
    "\n",
    "# Set the processed data directory as an environment variable for the feature extraction module\n",
    "os.environ['PROCESSED_DATA_DIR'] = processed_data_dir\n",
    "\n",
    "try:\n",
    "    # Import and run the main feature extraction function\n",
    "    from features.extract_features import main as extract_features_main\n",
    "    \n",
    "    # Run the feature extraction\n",
    "    extract_features_main()\n",
    "\n",
    "except ImportError as e:\n",
    "    print(f\"Error importing the feature extraction function: {e}\")\n",
    "except FileNotFoundError as e:\n",
    "    print(f\"File not found during processing: {e}\")\n",
    "except Exception as e:\n",
    "    print(f\"An error occurred: {e}\")\n",
    "\n"
   ]
  }
 ],
 "metadata": {
  "kernelspec": {
   "display_name": "base",
   "language": "python",
   "name": "python3"
  },
  "language_info": {
   "codemirror_mode": {
    "name": "ipython",
    "version": 3
   },
   "file_extension": ".py",
   "mimetype": "text/x-python",
   "name": "python",
   "nbconvert_exporter": "python",
   "pygments_lexer": "ipython3",
   "version": "3.12.4"
  }
 },
 "nbformat": 4,
 "nbformat_minor": 2
}
